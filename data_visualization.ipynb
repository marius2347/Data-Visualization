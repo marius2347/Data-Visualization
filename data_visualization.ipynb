{
 "cells": [
  {
   "cell_type": "markdown",
   "source": [
    "<h1 color = \"green\"> Data Visualization for a CSV File </h1>"
   ],
   "metadata": {
    "collapsed": false
   },
   "id": "5edffcfbc2698d5f"
  },
  {
   "cell_type": "markdown",
   "source": [
    "<h2> Importing CSV file </h2>"
   ],
   "metadata": {
    "collapsed": false
   },
   "id": "9a5bbf587139baf0"
  },
  {
   "cell_type": "code",
   "execution_count": 8,
   "outputs": [
    {
     "data": {
      "text/plain": "           Country  Number_of_Houses_Bought\n0              USA                     1200\n1           Canada                      800\n2   United Kingdom                      600\n3        Australia                      450\n4          Germany                      300\n..             ...                      ...\n75        Suriname                      200\n76          Guyana                      230\n77         Lesotho                      120\n78           Tonga                       90\n79       Mauritius                      160\n\n[80 rows x 2 columns]",
      "text/html": "<div>\n<style scoped>\n    .dataframe tbody tr th:only-of-type {\n        vertical-align: middle;\n    }\n\n    .dataframe tbody tr th {\n        vertical-align: top;\n    }\n\n    .dataframe thead th {\n        text-align: right;\n    }\n</style>\n<table border=\"1\" class=\"dataframe\">\n  <thead>\n    <tr style=\"text-align: right;\">\n      <th></th>\n      <th>Country</th>\n      <th>Number_of_Houses_Bought</th>\n    </tr>\n  </thead>\n  <tbody>\n    <tr>\n      <th>0</th>\n      <td>USA</td>\n      <td>1200</td>\n    </tr>\n    <tr>\n      <th>1</th>\n      <td>Canada</td>\n      <td>800</td>\n    </tr>\n    <tr>\n      <th>2</th>\n      <td>United Kingdom</td>\n      <td>600</td>\n    </tr>\n    <tr>\n      <th>3</th>\n      <td>Australia</td>\n      <td>450</td>\n    </tr>\n    <tr>\n      <th>4</th>\n      <td>Germany</td>\n      <td>300</td>\n    </tr>\n    <tr>\n      <th>...</th>\n      <td>...</td>\n      <td>...</td>\n    </tr>\n    <tr>\n      <th>75</th>\n      <td>Suriname</td>\n      <td>200</td>\n    </tr>\n    <tr>\n      <th>76</th>\n      <td>Guyana</td>\n      <td>230</td>\n    </tr>\n    <tr>\n      <th>77</th>\n      <td>Lesotho</td>\n      <td>120</td>\n    </tr>\n    <tr>\n      <th>78</th>\n      <td>Tonga</td>\n      <td>90</td>\n    </tr>\n    <tr>\n      <th>79</th>\n      <td>Mauritius</td>\n      <td>160</td>\n    </tr>\n  </tbody>\n</table>\n<p>80 rows × 2 columns</p>\n</div>"
     },
     "execution_count": 8,
     "metadata": {},
     "output_type": "execute_result"
    }
   ],
   "source": [
    "# importing modules\n",
    "import pandas as pd\n",
    "import numpy as np\n",
    "import matplotlib.pyplot as plt\n",
    "from matplotlib.figure import Figure\n",
    "\n",
    "#importing csv file\n",
    "data = pd.read_csv('data.csv')\n",
    "df = pd.DataFrame(data)\n",
    "df"
   ],
   "metadata": {
    "collapsed": false,
    "ExecuteTime": {
     "end_time": "2023-11-14T18:47:37.175355765Z",
     "start_time": "2023-11-14T18:47:36.937509203Z"
    }
   },
   "id": "4eabf481cfcdea8"
  },
  {
   "cell_type": "code",
   "execution_count": null,
   "outputs": [],
   "source": [],
   "metadata": {
    "collapsed": false
   },
   "id": "8f3a1b4d0eb14c07"
  }
 ],
 "metadata": {
  "kernelspec": {
   "display_name": "Python 3",
   "language": "python",
   "name": "python3"
  },
  "language_info": {
   "codemirror_mode": {
    "name": "ipython",
    "version": 2
   },
   "file_extension": ".py",
   "mimetype": "text/x-python",
   "name": "python",
   "nbconvert_exporter": "python",
   "pygments_lexer": "ipython2",
   "version": "2.7.6"
  }
 },
 "nbformat": 4,
 "nbformat_minor": 5
}
